{
 "cells": [
  {
   "cell_type": "code",
   "execution_count": 2,
   "metadata": {
    "scrolled": true
   },
   "outputs": [
    {
     "name": "stdout",
     "output_type": "stream",
     "text": [
      "Collecting pymongo\n",
      "  Downloading https://files.pythonhosted.org/packages/b2/8e/7171a56414354a4cb0862c9f2bde057c26f7cd0f28f982a3892fa0be5a89/pymongo-3.7.1-cp36-cp36m-win_amd64.whl (311kB)\n",
      "Installing collected packages: pymongo\n",
      "Successfully installed pymongo-3.7.1\n"
     ]
    },
    {
     "name": "stderr",
     "output_type": "stream",
     "text": [
      "distributed 1.21.8 requires msgpack, which is not installed.\n"
     ]
    }
   ],
   "source": [
    "!pip install pymongo"
   ]
  },
  {
   "cell_type": "code",
   "execution_count": 3,
   "metadata": {
    "scrolled": true
   },
   "outputs": [],
   "source": [
    "from pymongo import MongoClient"
   ]
  },
  {
   "cell_type": "code",
   "execution_count": 4,
   "metadata": {},
   "outputs": [],
   "source": [
    "conn = MongoClient('127.0.0.1')"
   ]
  },
  {
   "cell_type": "code",
   "execution_count": 5,
   "metadata": {
    "scrolled": true
   },
   "outputs": [
    {
     "name": "stdout",
     "output_type": "stream",
     "text": [
      "MongoClient(host=['127.0.0.1:27017'], document_class=dict, tz_aware=False, connect=True)\n"
     ]
    }
   ],
   "source": [
    "print(conn)"
   ]
  },
  {
   "cell_type": "code",
   "execution_count": 6,
   "metadata": {},
   "outputs": [
    {
     "data": {
      "text/plain": [
       "pymongo.mongo_client.MongoClient"
      ]
     },
     "execution_count": 6,
     "metadata": {},
     "output_type": "execute_result"
    }
   ],
   "source": [
    "type(conn)"
   ]
  },
  {
   "cell_type": "code",
   "execution_count": 7,
   "metadata": {},
   "outputs": [
    {
     "data": {
      "text/plain": [
       "['HOST',\n",
       " 'PORT',\n",
       " '_BaseObject__codec_options',\n",
       " '_BaseObject__read_concern',\n",
       " '_BaseObject__read_preference',\n",
       " '_BaseObject__write_concern',\n",
       " '_MongoClient__all_credentials',\n",
       " '_MongoClient__cursor_manager',\n",
       " '_MongoClient__default_database_name',\n",
       " '_MongoClient__index_cache',\n",
       " '_MongoClient__index_cache_lock',\n",
       " '_MongoClient__kill_cursors_queue',\n",
       " '_MongoClient__lock',\n",
       " '_MongoClient__options',\n",
       " '_MongoClient__reset_server',\n",
       " '_MongoClient__start_session',\n",
       " '__class__',\n",
       " '__delattr__',\n",
       " '__dict__',\n",
       " '__dir__',\n",
       " '__doc__',\n",
       " '__enter__',\n",
       " '__eq__',\n",
       " '__exit__',\n",
       " '__format__',\n",
       " '__ge__',\n",
       " '__getattr__',\n",
       " '__getattribute__',\n",
       " '__getitem__',\n",
       " '__gt__',\n",
       " '__hash__',\n",
       " '__init__',\n",
       " '__init_subclass__',\n",
       " '__iter__',\n",
       " '__le__',\n",
       " '__lt__',\n",
       " '__module__',\n",
       " '__ne__',\n",
       " '__new__',\n",
       " '__next__',\n",
       " '__reduce__',\n",
       " '__reduce_ex__',\n",
       " '__repr__',\n",
       " '__setattr__',\n",
       " '__sizeof__',\n",
       " '__str__',\n",
       " '__subclasshook__',\n",
       " '__weakref__',\n",
       " '_cache_credentials',\n",
       " '_cache_index',\n",
       " '_cached',\n",
       " '_close_cursor',\n",
       " '_close_cursor_now',\n",
       " '_constructor_args',\n",
       " '_database_default_options',\n",
       " '_end_sessions',\n",
       " '_ensure_session',\n",
       " '_event_listeners',\n",
       " '_get_server_session',\n",
       " '_get_socket',\n",
       " '_get_topology',\n",
       " '_is_writable',\n",
       " '_kill_cursors',\n",
       " '_kill_cursors_executor',\n",
       " '_process_periodic_tasks',\n",
       " '_purge_credentials',\n",
       " '_purge_index',\n",
       " '_read_preference_for',\n",
       " '_receive_cluster_time',\n",
       " '_repr_helper',\n",
       " '_reset_on_error',\n",
       " '_reset_server_and_request_check',\n",
       " '_retry_with_session',\n",
       " '_retryable_write',\n",
       " '_return_server_session',\n",
       " '_send_cluster_time',\n",
       " '_send_message_with_response',\n",
       " '_server_property',\n",
       " '_socket_for_reads',\n",
       " '_socket_for_writes',\n",
       " '_tmp_session',\n",
       " '_topology',\n",
       " '_topology_settings',\n",
       " '_write_concern_for',\n",
       " 'address',\n",
       " 'arbiters',\n",
       " 'close',\n",
       " 'close_cursor',\n",
       " 'codec_options',\n",
       " 'database_names',\n",
       " 'drop_database',\n",
       " 'event_listeners',\n",
       " 'fsync',\n",
       " 'get_database',\n",
       " 'get_default_database',\n",
       " 'is_locked',\n",
       " 'is_mongos',\n",
       " 'is_primary',\n",
       " 'kill_cursors',\n",
       " 'list_database_names',\n",
       " 'list_databases',\n",
       " 'local_threshold_ms',\n",
       " 'max_bson_size',\n",
       " 'max_idle_time_ms',\n",
       " 'max_message_size',\n",
       " 'max_pool_size',\n",
       " 'max_write_batch_size',\n",
       " 'min_pool_size',\n",
       " 'next',\n",
       " 'nodes',\n",
       " 'primary',\n",
       " 'read_concern',\n",
       " 'read_preference',\n",
       " 'retry_writes',\n",
       " 'secondaries',\n",
       " 'server_info',\n",
       " 'server_selection_timeout',\n",
       " 'set_cursor_manager',\n",
       " 'start_session',\n",
       " 'unlock',\n",
       " 'watch',\n",
       " 'write_concern']"
      ]
     },
     "execution_count": 7,
     "metadata": {},
     "output_type": "execute_result"
    }
   ],
   "source": [
    "dir(conn)"
   ]
  },
  {
   "cell_type": "code",
   "execution_count": 16,
   "metadata": {},
   "outputs": [],
   "source": [
    "db = conn.test_db"
   ]
  },
  {
   "cell_type": "code",
   "execution_count": 17,
   "metadata": {},
   "outputs": [],
   "source": [
    "collect = db.collect"
   ]
  },
  {
   "cell_type": "code",
   "execution_count": 21,
   "metadata": {},
   "outputs": [],
   "source": [
    "doc1 = {\"name\":\"a\", \"empno\":\"10001\",\"phone\":\"010-1234-1234\"}\n",
    "doc2 = {\"name\":\"a\", \"empno\":\"10001\",\"age\":44}\n",
    "doc3 = {\"name\":\"c\", \"empno\":\"10002\",\"phone\":\"010-7890-7890\"}"
   ]
  },
  {
   "cell_type": "code",
   "execution_count": 22,
   "metadata": {},
   "outputs": [],
   "source": [
    "del1 = {\"empno\":\"1001\"}\n",
    "del2 = {\"$set\":{\"name\":\"ㅋㅋㅋ\"}}"
   ]
  },
  {
   "cell_type": "code",
   "execution_count": 23,
   "metadata": {
    "scrolled": true
   },
   "outputs": [
    {
     "name": "stderr",
     "output_type": "stream",
     "text": [
      "C:\\Users\\4men8\\Anaconda3\\lib\\site-packages\\ipykernel_launcher.py:1: DeprecationWarning: insert is deprecated. Use insert_one or insert_many instead.\n",
      "  \"\"\"Entry point for launching an IPython kernel.\n",
      "C:\\Users\\4men8\\Anaconda3\\lib\\site-packages\\ipykernel_launcher.py:2: DeprecationWarning: insert is deprecated. Use insert_one or insert_many instead.\n",
      "  \n",
      "C:\\Users\\4men8\\Anaconda3\\lib\\site-packages\\ipykernel_launcher.py:3: DeprecationWarning: insert is deprecated. Use insert_one or insert_many instead.\n",
      "  This is separate from the ipykernel package so we can avoid doing imports until\n"
     ]
    },
    {
     "data": {
      "text/plain": [
       "ObjectId('5b4ea1f216fea520d4649283')"
      ]
     },
     "execution_count": 23,
     "metadata": {},
     "output_type": "execute_result"
    }
   ],
   "source": [
    "collect.insert(doc1)\n",
    "collect.insert(doc2)\n",
    "collect.insert(doc3)"
   ]
  },
  {
   "cell_type": "code",
   "execution_count": 28,
   "metadata": {},
   "outputs": [],
   "source": [
    "result = collect.find()"
   ]
  },
  {
   "cell_type": "code",
   "execution_count": 29,
   "metadata": {},
   "outputs": [
    {
     "name": "stdout",
     "output_type": "stream",
     "text": [
      "{'_id': ObjectId('5b4ea1c816fea520d464927f'), 'name': 'a', 'empno': '10001', 'age': 44}\n",
      "{'_id': ObjectId('5b4ea1e716fea520d4649280'), 'name': 'a', 'empno': '10001', 'age': 44}\n",
      "{'_id': ObjectId('5b4ea1f216fea520d4649281'), 'name': 'a', 'empno': '10001', 'phone': '010-1234-1234'}\n",
      "{'_id': ObjectId('5b4ea1f216fea520d4649282'), 'name': 'a', 'empno': '10001', 'age': 44}\n",
      "{'_id': ObjectId('5b4ea1f216fea520d4649283'), 'name': 'c', 'empno': '10002', 'phone': '010-7890-7890'}\n"
     ]
    }
   ],
   "source": [
    "for row in result:\n",
    "    print(row)"
   ]
  },
  {
   "cell_type": "code",
   "execution_count": 26,
   "metadata": {},
   "outputs": [
    {
     "data": {
      "text/plain": [
       "<pymongo.results.DeleteResult at 0x1f036c03c08>"
      ]
     },
     "execution_count": 26,
     "metadata": {},
     "output_type": "execute_result"
    }
   ],
   "source": [
    "collect.delete_many({\"_id\":\"ObjectId('5b4ea1c816fea520d464927f')\", \"_id\":\"ObjectId('5b4ea1e716fea520d4649280')\"})"
   ]
  },
  {
   "cell_type": "code",
   "execution_count": 30,
   "metadata": {},
   "outputs": [
    {
     "name": "stderr",
     "output_type": "stream",
     "text": [
      "C:\\Users\\4men8\\Anaconda3\\lib\\site-packages\\ipykernel_launcher.py:1: DeprecationWarning: database_names is deprecated. Use list_database_names instead.\n",
      "  \"\"\"Entry point for launching an IPython kernel.\n"
     ]
    },
    {
     "data": {
      "text/plain": [
       "['admin', 'config', 'local', 'newDB', 'sns', 'test_db']"
      ]
     },
     "execution_count": 30,
     "metadata": {},
     "output_type": "execute_result"
    }
   ],
   "source": [
    "conn.database_names()"
   ]
  },
  {
   "cell_type": "code",
   "execution_count": 33,
   "metadata": {},
   "outputs": [],
   "source": [
    "newitem={'name':'item1',\n",
    "         'price':10000,\n",
    "         'ratio':4.5}"
   ]
  },
  {
   "cell_type": "code",
   "execution_count": 34,
   "metadata": {},
   "outputs": [
    {
     "data": {
      "text/plain": [
       "<pymongo.results.InsertOneResult at 0x1f036ce5b48>"
      ]
     },
     "execution_count": 34,
     "metadata": {},
     "output_type": "execute_result"
    }
   ],
   "source": [
    "collect.insert_one(newitem)"
   ]
  },
  {
   "cell_type": "code",
   "execution_count": 47,
   "metadata": {},
   "outputs": [],
   "source": [
    "result = collect.find({})"
   ]
  },
  {
   "cell_type": "code",
   "execution_count": 48,
   "metadata": {},
   "outputs": [],
   "source": [
    "i = list(result)"
   ]
  },
  {
   "cell_type": "code",
   "execution_count": 43,
   "metadata": {},
   "outputs": [
    {
     "data": {
      "text/plain": [
       "[{'_id': ObjectId('5b4ea1c816fea520d464927f'),\n",
       "  'name': 'a',\n",
       "  'empno': '10001',\n",
       "  'age': 44},\n",
       " {'_id': ObjectId('5b4ea1e716fea520d4649280'),\n",
       "  'name': 'a',\n",
       "  'empno': '10001',\n",
       "  'age': 44},\n",
       " {'_id': ObjectId('5b4ea1f216fea520d4649281'),\n",
       "  'name': 'a',\n",
       "  'empno': '10001',\n",
       "  'phone': '010-1234-1234'},\n",
       " {'_id': ObjectId('5b4ea1f216fea520d4649282'),\n",
       "  'name': 'a',\n",
       "  'empno': '10001',\n",
       "  'age': 44},\n",
       " {'_id': ObjectId('5b4ea1f216fea520d4649283'),\n",
       "  'name': 'c',\n",
       "  'empno': '10002',\n",
       "  'phone': '010-7890-7890'},\n",
       " {'_id': ObjectId('5b4eaa2f16fea520d4649284'),\n",
       "  'name': 'item1',\n",
       "  'price': 10000,\n",
       "  'ratio': 4.5}]"
      ]
     },
     "execution_count": 43,
     "metadata": {},
     "output_type": "execute_result"
    }
   ],
   "source": [
    "list(result)"
   ]
  },
  {
   "cell_type": "code",
   "execution_count": 45,
   "metadata": {},
   "outputs": [
    {
     "data": {
      "text/plain": [
       "list"
      ]
     },
     "execution_count": 45,
     "metadata": {},
     "output_type": "execute_result"
    }
   ],
   "source": [
    "type(i)"
   ]
  },
  {
   "cell_type": "code",
   "execution_count": 54,
   "metadata": {},
   "outputs": [
    {
     "data": {
      "text/plain": [
       "int"
      ]
     },
     "execution_count": 54,
     "metadata": {},
     "output_type": "execute_result"
    }
   ],
   "source": [
    "type(i[0]['age'])"
   ]
  },
  {
   "cell_type": "code",
   "execution_count": 55,
   "metadata": {},
   "outputs": [],
   "source": [
    "newitem2={'name':'item2',\n",
    "         'price':float(10000),\n",
    "         'ratio':3.8}"
   ]
  },
  {
   "cell_type": "code",
   "execution_count": 56,
   "metadata": {},
   "outputs": [
    {
     "data": {
      "text/plain": [
       "<pymongo.results.InsertOneResult at 0x1f036ce5848>"
      ]
     },
     "execution_count": 56,
     "metadata": {},
     "output_type": "execute_result"
    }
   ],
   "source": [
    "collect.insert_one(newitem2)"
   ]
  },
  {
   "cell_type": "code",
   "execution_count": 57,
   "metadata": {},
   "outputs": [],
   "source": [
    "result = collect.find()"
   ]
  },
  {
   "cell_type": "code",
   "execution_count": 58,
   "metadata": {},
   "outputs": [
    {
     "data": {
      "text/plain": [
       "<pymongo.cursor.Cursor at 0x1f036cfc080>"
      ]
     },
     "execution_count": 58,
     "metadata": {},
     "output_type": "execute_result"
    }
   ],
   "source": [
    "result"
   ]
  },
  {
   "cell_type": "code",
   "execution_count": 59,
   "metadata": {},
   "outputs": [],
   "source": [
    "i =list(result)"
   ]
  },
  {
   "cell_type": "code",
   "execution_count": 60,
   "metadata": {},
   "outputs": [
    {
     "data": {
      "text/plain": [
       "[{'_id': ObjectId('5b4ea1c816fea520d464927f'),\n",
       "  'name': 'a',\n",
       "  'empno': '10001',\n",
       "  'age': 44},\n",
       " {'_id': ObjectId('5b4ea1e716fea520d4649280'),\n",
       "  'name': 'a',\n",
       "  'empno': '10001',\n",
       "  'age': 44},\n",
       " {'_id': ObjectId('5b4ea1f216fea520d4649281'),\n",
       "  'name': 'a',\n",
       "  'empno': '10001',\n",
       "  'phone': '010-1234-1234'},\n",
       " {'_id': ObjectId('5b4ea1f216fea520d4649282'),\n",
       "  'name': 'a',\n",
       "  'empno': '10001',\n",
       "  'age': 44},\n",
       " {'_id': ObjectId('5b4ea1f216fea520d4649283'),\n",
       "  'name': 'c',\n",
       "  'empno': '10002',\n",
       "  'phone': '010-7890-7890'},\n",
       " {'_id': ObjectId('5b4eaa2f16fea520d4649284'),\n",
       "  'name': 'item1',\n",
       "  'price': 10000,\n",
       "  'ratio': 4.5},\n",
       " {'_id': ObjectId('5b4eab9816fea520d4649285'),\n",
       "  'name': 'item2',\n",
       "  'price': 10000.0,\n",
       "  'ratio': 3.8}]"
      ]
     },
     "execution_count": 60,
     "metadata": {},
     "output_type": "execute_result"
    }
   ],
   "source": [
    "i"
   ]
  },
  {
   "cell_type": "code",
   "execution_count": null,
   "metadata": {},
   "outputs": [],
   "source": []
  },
  {
   "cell_type": "code",
   "execution_count": null,
   "metadata": {},
   "outputs": [],
   "source": []
  },
  {
   "cell_type": "code",
   "execution_count": null,
   "metadata": {},
   "outputs": [],
   "source": []
  },
  {
   "cell_type": "code",
   "execution_count": null,
   "metadata": {},
   "outputs": [],
   "source": []
  },
  {
   "cell_type": "code",
   "execution_count": 61,
   "metadata": {},
   "outputs": [],
   "source": [
    "from pymongo import MongoClient"
   ]
  },
  {
   "cell_type": "code",
   "execution_count": 62,
   "metadata": {},
   "outputs": [],
   "source": [
    "client = MongoClient('localhost')"
   ]
  },
  {
   "cell_type": "code",
   "execution_count": null,
   "metadata": {},
   "outputs": [],
   "source": []
  }
 ],
 "metadata": {
  "kernelspec": {
   "display_name": "Python 3",
   "language": "python",
   "name": "python3"
  },
  "language_info": {
   "codemirror_mode": {
    "name": "ipython",
    "version": 3
   },
   "file_extension": ".py",
   "mimetype": "text/x-python",
   "name": "python",
   "nbconvert_exporter": "python",
   "pygments_lexer": "ipython3",
   "version": "3.6.5"
  }
 },
 "nbformat": 4,
 "nbformat_minor": 2
}

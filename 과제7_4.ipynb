{
 "cells": [
  {
   "cell_type": "code",
   "execution_count": null,
   "metadata": {},
   "outputs": [],
   "source": [
    "#61"
   ]
  },
  {
   "cell_type": "code",
   "execution_count": null,
   "metadata": {},
   "outputs": [],
   "source": [
    "#62"
   ]
  },
  {
   "cell_type": "code",
   "execution_count": null,
   "metadata": {},
   "outputs": [],
   "source": [
    "#63"
   ]
  },
  {
   "cell_type": "code",
   "execution_count": null,
   "metadata": {},
   "outputs": [],
   "source": [
    "#64"
   ]
  },
  {
   "cell_type": "code",
   "execution_count": null,
   "metadata": {
    "scrolled": true
   },
   "outputs": [],
   "source": [
    "#65 값이 제대로 안나오는데...................\n",
    "\n",
    "import math\n",
    "\n",
    "perimeter = 0\n",
    "\n",
    "\n",
    "first_x = float(input(\"x : \"))\n",
    "first_y = float(input(\"y : \"))\n",
    "\n",
    "prev_x = first_x\n",
    "prev_y = first_y\n",
    "\n",
    "line = input(\"x : \")\n",
    "while line !=\"\":\n",
    "    x = float(line)\n",
    "    y = float(input(\"y : \"))\n",
    "    \n",
    "    distance = math.sqrt((prev_x - x)**2 + (prev_y - y)**2)\n",
    "    perimeter += distance\n",
    "    \n",
    "    prev_x = x\n",
    "    prev_y = y\n",
    "    \n",
    "    line = input()\n",
    "    \n",
    "dist = math.sqrt((first_x - x)**2+(first_y - y)**2)\n",
    "perimeter += distance\n",
    "\n",
    "print(perimeter)"
   ]
  },
  {
   "cell_type": "code",
   "execution_count": null,
   "metadata": {},
   "outputs": [],
   "source": [
    "#66"
   ]
  },
  {
   "cell_type": "code",
   "execution_count": null,
   "metadata": {},
   "outputs": [],
   "source": [
    "#67\n",
    "\n",
    "baby_price = 0.00\n",
    "child_price = 14.00\n",
    "adult_price = 23.00\n",
    "senior_price = 18.00\n",
    "\n",
    "baby_limit = 2\n",
    "child_limit = 12\n",
    "adult_limit = 64\n",
    "\n",
    "total = 0\n",
    "\n",
    "line = input()\n",
    "\n",
    "while line != \"\":\n",
    "    age = int(line)\n",
    "    \n",
    "    if age <= baby_limit:\n",
    "        total += baby_price\n",
    "    elif age <= child_limit:\n",
    "        total += child_price\n",
    "    else:\n",
    "        totla += senior_price\n",
    "        \n",
    "    line = input()\n",
    "\n",
    "print (\"$%.2f\" % total)"
   ]
  },
  {
   "cell_type": "code",
   "execution_count": null,
   "metadata": {},
   "outputs": [],
   "source": [
    "#68"
   ]
  },
  {
   "cell_type": "code",
   "execution_count": null,
   "metadata": {},
   "outputs": [],
   "source": [
    "#69"
   ]
  },
  {
   "cell_type": "code",
   "execution_count": null,
   "metadata": {},
   "outputs": [],
   "source": [
    "#70"
   ]
  },
  {
   "cell_type": "code",
   "execution_count": null,
   "metadata": {},
   "outputs": [],
   "source": [
    "#71"
   ]
  },
  {
   "cell_type": "code",
   "execution_count": null,
   "metadata": {},
   "outputs": [],
   "source": [
    "#72"
   ]
  },
  {
   "cell_type": "code",
   "execution_count": null,
   "metadata": {},
   "outputs": [],
   "source": [
    "#73"
   ]
  },
  {
   "cell_type": "code",
   "execution_count": null,
   "metadata": {},
   "outputs": [],
   "source": [
    "#74"
   ]
  },
  {
   "cell_type": "code",
   "execution_count": null,
   "metadata": {},
   "outputs": [],
   "source": [
    "#75"
   ]
  },
  {
   "cell_type": "code",
   "execution_count": null,
   "metadata": {},
   "outputs": [],
   "source": [
    "#76"
   ]
  },
  {
   "cell_type": "code",
   "execution_count": null,
   "metadata": {},
   "outputs": [],
   "source": [
    "#77"
   ]
  },
  {
   "cell_type": "code",
   "execution_count": null,
   "metadata": {},
   "outputs": [],
   "source": [
    "#78"
   ]
  },
  {
   "cell_type": "code",
   "execution_count": null,
   "metadata": {},
   "outputs": [],
   "source": [
    "#79"
   ]
  },
  {
   "cell_type": "code",
   "execution_count": null,
   "metadata": {},
   "outputs": [],
   "source": [
    "#80"
   ]
  }
 ],
 "metadata": {
  "kernelspec": {
   "display_name": "Python 3",
   "language": "python",
   "name": "python3"
  },
  "language_info": {
   "codemirror_mode": {
    "name": "ipython",
    "version": 3
   },
   "file_extension": ".py",
   "mimetype": "text/x-python",
   "name": "python",
   "nbconvert_exporter": "python",
   "pygments_lexer": "ipython3",
   "version": "3.6.5"
  }
 },
 "nbformat": 4,
 "nbformat_minor": 2
}

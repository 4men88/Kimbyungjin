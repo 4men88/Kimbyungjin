{
 "cells": [
  {
   "cell_type": "code",
   "execution_count": 2,
   "metadata": {},
   "outputs": [],
   "source": [
    "import sqlite3 as sql"
   ]
  },
  {
   "cell_type": "code",
   "execution_count": 63,
   "metadata": {},
   "outputs": [],
   "source": [
    "conn = sql.connect(':memory:')"
   ]
  },
  {
   "cell_type": "code",
   "execution_count": 64,
   "metadata": {},
   "outputs": [],
   "source": [
    "cur = conn.cursor()"
   ]
  },
  {
   "cell_type": "code",
   "execution_count": 65,
   "metadata": {},
   "outputs": [
    {
     "data": {
      "text/plain": [
       "<sqlite3.Cursor at 0x260d71f4a40>"
      ]
     },
     "execution_count": 65,
     "metadata": {},
     "output_type": "execute_result"
    }
   ],
   "source": [
    "cur.executescript(\n",
    "    \"\"\"\n",
    "        drop table if exists artist;\n",
    "        drop table if exists genre;\n",
    "        drop table if exists album;\n",
    "        drop table if exists track;\n",
    "    \n",
    "    \n",
    "        CREATE TABLE artist (\n",
    "            id INTEGER NOT NULL PRIMARY KEY AUTOINCREMENT UNIQUE,\n",
    "            name TEXT\n",
    "        );\n",
    "\n",
    "        \n",
    "        CREATE TABLE Genre (\n",
    "            id INTEGER NOT NULL PRIMARY KEY AUTOINCREMENT UNIQUE,\n",
    "            name TEXT\n",
    "        );\n",
    "\n",
    "        \n",
    "        CREATE TABLE Album (\n",
    "            id INTEGER NOT NULL PRIMARY KEY AUTOINCREMENT UNIQUE,\n",
    "            title TEXT,\n",
    "            artist_id INTEGER\n",
    "            );\n",
    "        \n",
    "        CREATE TABLE Track (\n",
    "            id INTEGER NOT NULL PRIMARY KEY AUTOINCREMENT UNIQUE,\n",
    "            title TEXT,\n",
    "            length INTEGER,\n",
    "            rating INTEGER,\n",
    "            count INTEGER,\n",
    "            album_id INTEGER,\n",
    "            genre_id INTEGER\n",
    "            );\n",
    "\n",
    "        \n",
    "        insert into Artist (name) values ('Led Zepplin');\n",
    "        insert into Artist (name) values ('AC/DC');\n",
    "\n",
    "        \n",
    "        insert into Genre (name) values ('Rock');\n",
    "        insert into Genre (name) values ('Metal');\n",
    "        \n",
    "        insert into Album (title, artist_id) values ('Who Made Who', 2);\n",
    "        insert into Album (title, artist_id) values ('IV', 1);\n",
    "\n",
    "        insert into Track (title, rating, length, count, album_id, genre_id) values ('Black Dog', 5, 297, 0, 2, 1);\n",
    "        insert into Track (title, rating, length, count, album_id, genre_id) values ('Stairway', 5, 482, 0, 2, 1);\n",
    "        insert into Track (title, rating, length, count, album_id, genre_id) values ('About to Rock', 5, 313, 0, 1, 2);\n",
    "        insert into Track (title, rating, length, count, album_id, genre_id) values ('Who Made Who', 5, 207, 0, 1, 2);\n",
    "\n",
    "        \n",
    "\"\"\"\n",
    ")"
   ]
  },
  {
   "cell_type": "code",
   "execution_count": 66,
   "metadata": {},
   "outputs": [
    {
     "data": {
      "text/plain": [
       "<sqlite3.Cursor at 0x260d71f4a40>"
      ]
     },
     "execution_count": 66,
     "metadata": {},
     "output_type": "execute_result"
    }
   ],
   "source": [
    "cur.execute(\"select * from track\")"
   ]
  },
  {
   "cell_type": "code",
   "execution_count": 67,
   "metadata": {},
   "outputs": [
    {
     "name": "stdout",
     "output_type": "stream",
     "text": [
      "[(1, 'Black Dog', 297, 5, 0, 2, 1), (2, 'Stairway', 482, 5, 0, 2, 1), (3, 'About to Rock', 313, 5, 0, 1, 2), (4, 'Who Made Who', 207, 5, 0, 1, 2)]\n"
     ]
    }
   ],
   "source": [
    "print(cur.fetchall())"
   ]
  },
  {
   "cell_type": "code",
   "execution_count": 68,
   "metadata": {},
   "outputs": [
    {
     "data": {
      "text/plain": [
       "<sqlite3.Cursor at 0x260d71f4a40>"
      ]
     },
     "execution_count": 68,
     "metadata": {},
     "output_type": "execute_result"
    }
   ],
   "source": [
    "cur.execute(\"select * from artist, album\")\n",
    "# cur.execute(\"select * from artist join album\")"
   ]
  },
  {
   "cell_type": "code",
   "execution_count": 69,
   "metadata": {},
   "outputs": [
    {
     "name": "stdout",
     "output_type": "stream",
     "text": [
      "(1, 'Led Zepplin', 1, 'Who Made Who', 2)\n",
      "(1, 'Led Zepplin', 2, 'IV', 1)\n",
      "(2, 'AC/DC', 1, 'Who Made Who', 2)\n",
      "(2, 'AC/DC', 2, 'IV', 1)\n"
     ]
    }
   ],
   "source": [
    "for row in cur.fetchall():\n",
    "    print(row)"
   ]
  },
  {
   "cell_type": "code",
   "execution_count": 37,
   "metadata": {},
   "outputs": [
    {
     "data": {
      "text/plain": [
       "<sqlite3.Cursor at 0x260d7152500>"
      ]
     },
     "execution_count": 37,
     "metadata": {},
     "output_type": "execute_result"
    }
   ],
   "source": [
    "cur.execute(\"select * from artist as a join album as b on a.id = b.artist_id order by id\")"
   ]
  },
  {
   "cell_type": "code",
   "execution_count": 38,
   "metadata": {},
   "outputs": [
    {
     "name": "stdout",
     "output_type": "stream",
     "text": [
      "(1, 'Led Zepplin', 2, 'IV', 1)\n",
      "(2, 'AC/DC', 1, 'Who Made Who', 2)\n"
     ]
    }
   ],
   "source": [
    "for row in cur.fetchall():\n",
    "    print(row)"
   ]
  },
  {
   "cell_type": "code",
   "execution_count": 41,
   "metadata": {},
   "outputs": [
    {
     "data": {
      "text/plain": [
       "<sqlite3.Cursor at 0x260d7152500>"
      ]
     },
     "execution_count": 41,
     "metadata": {},
     "output_type": "execute_result"
    }
   ],
   "source": [
    "cur.execute(\"select * from album as a join track as b on a.id = b.album_id\")"
   ]
  },
  {
   "cell_type": "code",
   "execution_count": 42,
   "metadata": {},
   "outputs": [
    {
     "name": "stdout",
     "output_type": "stream",
     "text": [
      "(2, 'IV', 1, 1, 'Black Dog', 297, 5, 0, 2, 1)\n",
      "(2, 'IV', 1, 2, 'Stairway', 482, 5, 0, 2, 1)\n",
      "(1, 'Who Made Who', 2, 3, 'About to Rock', 313, 5, 0, 1, 2)\n",
      "(1, 'Who Made Who', 2, 4, 'Who Made Who', 207, 5, 0, 1, 2)\n"
     ]
    }
   ],
   "source": [
    "for row in cur.fetchall():\n",
    "    print(row)"
   ]
  },
  {
   "cell_type": "code",
   "execution_count": 50,
   "metadata": {
    "scrolled": true
   },
   "outputs": [
    {
     "name": "stdout",
     "output_type": "stream",
     "text": [
      "찾아쏭\n"
     ]
    }
   ],
   "source": [
    "cur.execute(\"select a.title, b.name, c.title, d.name \\\n",
    "             from track as a, artist as b, album as c, genre as d \\\n",
    "             where a.album_id=c.id and a.genre_id=d.id and c.artist_id=b.id\");\n",
    "\n",
    "print('찾아쏭')"
   ]
  },
  {
   "cell_type": "code",
   "execution_count": 71,
   "metadata": {
    "scrolled": true
   },
   "outputs": [],
   "source": [
    "for row in cur.fetchall():\n",
    "    print(row)"
   ]
  },
  {
   "cell_type": "code",
   "execution_count": 73,
   "metadata": {},
   "outputs": [
    {
     "data": {
      "text/plain": [
       "<sqlite3.Cursor at 0x260d71f4a40>"
      ]
     },
     "execution_count": 73,
     "metadata": {},
     "output_type": "execute_result"
    }
   ],
   "source": [
    "cur.execute(\"select * from track\")"
   ]
  },
  {
   "cell_type": "code",
   "execution_count": 70,
   "metadata": {},
   "outputs": [
    {
     "data": {
      "text/plain": [
       "<sqlite3.Cursor at 0x260d71f4ab0>"
      ]
     },
     "execution_count": 70,
     "metadata": {},
     "output_type": "execute_result"
    }
   ],
   "source": [
    "conn.execute(\"insert into track (title) values ('아무거나')\")"
   ]
  },
  {
   "cell_type": "code",
   "execution_count": 74,
   "metadata": {},
   "outputs": [
    {
     "name": "stdout",
     "output_type": "stream",
     "text": [
      "[(1, 'Black Dog', 297, 5, 0, 2, 1), (2, 'Stairway', 482, 5, 0, 2, 1), (3, 'About to Rock', 313, 5, 0, 1, 2), (4, 'Who Made Who', 207, 5, 0, 1, 2), (5, '아무거나', None, None, None, None, None)]\n"
     ]
    }
   ],
   "source": [
    "print(cur.fetchall())"
   ]
  },
  {
   "cell_type": "code",
   "execution_count": 80,
   "metadata": {},
   "outputs": [
    {
     "data": {
      "text/plain": [
       "<sqlite3.Cursor at 0x260d71f4a40>"
      ]
     },
     "execution_count": 80,
     "metadata": {},
     "output_type": "execute_result"
    }
   ],
   "source": [
    "cur.execute(\"select * from album left join track on album.id=track.album_id\")"
   ]
  },
  {
   "cell_type": "code",
   "execution_count": 81,
   "metadata": {},
   "outputs": [
    {
     "name": "stdout",
     "output_type": "stream",
     "text": [
      "[(1, 'Who Made Who', 2, 3, 'About to Rock', 313, 5, 0, 1, 2), (1, 'Who Made Who', 2, 4, 'Who Made Who', 207, 5, 0, 1, 2), (2, 'IV', 1, 1, 'Black Dog', 297, 5, 0, 2, 1), (2, 'IV', 1, 2, 'Stairway', 482, 5, 0, 2, 1)]\n"
     ]
    }
   ],
   "source": [
    "print(cur.fetchall())"
   ]
  },
  {
   "cell_type": "code",
   "execution_count": 82,
   "metadata": {},
   "outputs": [
    {
     "data": {
      "text/plain": [
       "<sqlite3.Cursor at 0x260d71f4a40>"
      ]
     },
     "execution_count": 82,
     "metadata": {},
     "output_type": "execute_result"
    }
   ],
   "source": [
    "cur.execute(\"select * from track left join album on album.id=track.album_id\")"
   ]
  },
  {
   "cell_type": "code",
   "execution_count": 83,
   "metadata": {},
   "outputs": [
    {
     "name": "stdout",
     "output_type": "stream",
     "text": [
      "[(1, 'Black Dog', 297, 5, 0, 2, 1, 2, 'IV', 1), (2, 'Stairway', 482, 5, 0, 2, 1, 2, 'IV', 1), (3, 'About to Rock', 313, 5, 0, 1, 2, 1, 'Who Made Who', 2), (4, 'Who Made Who', 207, 5, 0, 1, 2, 1, 'Who Made Who', 2), (5, '아무거나', None, None, None, None, None, None, None, None)]\n"
     ]
    }
   ],
   "source": [
    "print(cur.fetchall())"
   ]
  },
  {
   "cell_type": "code",
   "execution_count": null,
   "metadata": {},
   "outputs": [],
   "source": [
    "for row in cur"
   ]
  },
  {
   "cell_type": "code",
   "execution_count": null,
   "metadata": {},
   "outputs": [],
   "source": []
  },
  {
   "cell_type": "code",
   "execution_count": 84,
   "metadata": {},
   "outputs": [],
   "source": [
    "with open(\"test.dump\",\"w\") as f:\n",
    "    for line in conn.iterdump():\n",
    "        f.write(\"%s\\n\" %(line))"
   ]
  },
  {
   "cell_type": "code",
   "execution_count": null,
   "metadata": {},
   "outputs": [],
   "source": []
  }
 ],
 "metadata": {
  "kernelspec": {
   "display_name": "Python 3",
   "language": "python",
   "name": "python3"
  },
  "language_info": {
   "codemirror_mode": {
    "name": "ipython",
    "version": 3
   },
   "file_extension": ".py",
   "mimetype": "text/x-python",
   "name": "python",
   "nbconvert_exporter": "python",
   "pygments_lexer": "ipython3",
   "version": "3.6.5"
  }
 },
 "nbformat": 4,
 "nbformat_minor": 2
}

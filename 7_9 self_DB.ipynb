{
 "cells": [
  {
   "cell_type": "code",
   "execution_count": null,
   "metadata": {
    "scrolled": true
   },
   "outputs": [],
   "source": [
    "import sqlite3 as sql\n",
    "\n",
    "conn = None\n",
    "\n",
    "try:\n",
    "    conn = sql.connect('test.db')\n",
    "    cur = conn.cursor()\n",
    "    cur.execute(\"select sqlite_version()\")\n",
    "    \n",
    "    data = cur.fetchone()\n",
    "    \n",
    "    print(\"SQL Version: \",data)\n",
    "except Exception as e:\n",
    "    print(\"Error: \",e)\n",
    "finally:\n",
    "    if conn:\n",
    "        conn.close()"
   ]
  },
  {
   "cell_type": "code",
   "execution_count": null,
   "metadata": {},
   "outputs": [],
   "source": [
    "import sqlite3 as sql\n",
    "\n",
    "conn = None\n",
    "\n",
    "try:\n",
    "    conn = sql.connect('test.db')\n",
    "    cur = conn.cursor()\n",
    "    data = cur.fetchone()\n",
    "    \n",
    "    print(\"SQL version: \", data)\n",
    "    conn.execute('drop table company;')\n",
    "    print(\"company table 삭제 완료\")\n",
    "except Exception as e:\n",
    "    print(\"Error: \",e)\n",
    "finally:\n",
    "    if conn:\n",
    "        conn.close()"
   ]
  },
  {
   "cell_type": "code",
   "execution_count": null,
   "metadata": {},
   "outputs": [],
   "source": [
    "conn=sql.connect('test.db')\n",
    "\n",
    "with conn:\n",
    "    conn.execute('drop table company')"
   ]
  },
  {
   "cell_type": "code",
   "execution_count": null,
   "metadata": {},
   "outputs": [],
   "source": [
    "conn = None\n",
    "\n",
    "try:\n",
    "    conn = sql.connect('test.db')\n",
    "    cur = conn.cursor()\n",
    "    cur.execute(\"select sqlite_version()\")\n",
    "    \n",
    "    data = cur.fetchone()\n",
    "    \n",
    "    print(\"SQL Version: \",data)\n",
    "except Exception as e:\n",
    "    print(\"Error: \",e)\n",
    "finally:\n",
    "    if conn:\n",
    "        conn.close()\n",
    "\n",
    "with conn:\n",
    "    cur.execute(\"drop table cars\")"
   ]
  },
  {
   "cell_type": "code",
   "execution_count": null,
   "metadata": {},
   "outputs": [],
   "source": [
    "conn = sql.connect('test.db')\n",
    "\n",
    "with conn:\n",
    "    cur = conn.cursor()\n",
    "   \n",
    "    cur.execute(\"create table cars(id int, name text, price int)\")\n",
    "    cur.execute(\"insert into cars values(1, 'Audi',52642)\")\n",
    "    cur.execute(\"insert into cars values(2,'Mercedes',57127)\")\n",
    "    cur.execute(\"insert into cars values(3,'Skoda',9000)\")\n",
    "    cur.execute(\"insert into cars values(4,'Bentley',350000)\")\n",
    "    cur.execute(\"insert into cars values(5,'Citroen',21000)\")\n",
    "    cur.execute(\"insert into cars values(6,'Hummer',41400)\")\n",
    "    cur.execute(\"insert into cars values(7,'Volvo',29000)\")\n",
    "    cur.execute(\"insert into cars values(8,'Volkswagen',21600)\")"
   ]
  },
  {
   "cell_type": "code",
   "execution_count": null,
   "metadata": {},
   "outputs": [],
   "source": [
    "with conn:\n",
    "    cur = conn.cursor()\n",
    "    cur.execute(\"drop table if exists Cars\")"
   ]
  },
  {
   "cell_type": "code",
   "execution_count": null,
   "metadata": {},
   "outputs": [],
   "source": [
    "cars = [\n",
    "    (1, 'Audi', 52642),\n",
    "    (2, 'Mercedes', 57127),\n",
    "    (3, 'Skoda', 9000),\n",
    "    (4, 'Volvo', 29000),\n",
    "    (5, 'Bentley', 350000),\n",
    "    (6, 'Hummer',41400),\n",
    "    (7, 'Volkswagen', 21600)\n",
    "]\n",
    "\n",
    "conn = sql.connect('test1.db')\n",
    "\n",
    "with conn:\n",
    "    cur = conn.cursor()\n",
    "    cur.execute(\"drop table if exists Cars\")\n",
    "    cur.execute(\"create table cars(id int primary key, name text, price int)\")\n",
    "    cur.executemany(\"insert into cars values (?,?,?)\", cars)"
   ]
  },
  {
   "cell_type": "code",
   "execution_count": null,
   "metadata": {},
   "outputs": [],
   "source": [
    "conn = sqlite."
   ]
  }
 ],
 "metadata": {
  "kernelspec": {
   "display_name": "Python 3",
   "language": "python",
   "name": "python3"
  },
  "language_info": {
   "codemirror_mode": {
    "name": "ipython",
    "version": 3
   },
   "file_extension": ".py",
   "mimetype": "text/x-python",
   "name": "python",
   "nbconvert_exporter": "python",
   "pygments_lexer": "ipython3",
   "version": "3.6.5"
  }
 },
 "nbformat": 4,
 "nbformat_minor": 2
}

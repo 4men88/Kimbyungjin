{
 "cells": [
  {
   "cell_type": "code",
   "execution_count": null,
   "metadata": {},
   "outputs": [],
   "source": [
    "#104\n",
    "\n",
    "data=[]\n",
    "\n",
    "num = int(input())\n",
    "while num != 0:\n",
    "    data.append(num)\n",
    "    num = int(input())\n",
    "\n",
    "data.sort()\n",
    "\n",
    "for num in data:\n",
    "    print(num)"
   ]
  },
  {
   "cell_type": "code",
   "execution_count": null,
   "metadata": {},
   "outputs": [],
   "source": [
    "#105\n",
    "\n",
    "data=[]\n",
    "\n",
    "num = int(input())\n",
    "while num != 0:\n",
    "    data.append(num)\n",
    "    num = int(input())\n",
    "\n",
    "data.reverse()\n",
    "\n",
    "for num in data:\n",
    "    print(num)"
   ]
  },
  {
   "cell_type": "code",
   "execution_count": null,
   "metadata": {},
   "outputs": [],
   "source": [
    "#107\n",
    "\n",
    "strs = []\n",
    "str = input()\n",
    "while str != \"\":\n",
    "    \n",
    "    if str not in strs:\n",
    "        strs.append(str)\n",
    "        \n",
    "    str = input()\n",
    "\n",
    "for str in strs:\n",
    "    print(str)"
   ]
  },
  {
   "cell_type": "code",
   "execution_count": null,
   "metadata": {},
   "outputs": [],
   "source": [
    "#108\n",
    "neg_num = []\n",
    "zero = []\n",
    "pos_num = []\n",
    "\n",
    "line = input()\n",
    "while line != \"\":\n",
    "    num = int(line)\n",
    "    \n",
    "    if num < 0:\n",
    "        neg_num.append(num)\n",
    "    elif num > 0:\n",
    "        pos_num.append(num)\n",
    "    else:\n",
    "        zero.append(num)\n",
    "\n",
    "    line = input()\n",
    "    \n",
    "for i in neg_num:\n",
    "    print(i)\n",
    "\n",
    "for i in zero:\n",
    "    print(i)\n",
    "\n",
    "for i in pos_num:\n",
    "    print(i)\n"
   ]
  },
  {
   "cell_type": "code",
   "execution_count": 8,
   "metadata": {},
   "outputs": [
    {
     "name": "stdout",
     "output_type": "stream",
     "text": [
      "15 20 28 33 34 41 \n"
     ]
    }
   ],
   "source": [
    "#114\n",
    "\n",
    "from random import randrange\n",
    "\n",
    "min_num = 1\n",
    "max_num = 49\n",
    "num_members = 6\n",
    "\n",
    "lotto = []\n",
    "\n",
    "for i in range(num_members):\n",
    "    rand = randrange(min_num, max_num + 1)\n",
    "    \n",
    "    while rand in lotto:\n",
    "        rand = randrange(min_num, max_num + 1)\n",
    "        \n",
    "    lotto.append(rand)\n",
    "        \n",
    "lotto.sort()\n",
    "\n",
    "for i in lotto:\n",
    "    print(i, end=\" \")\n",
    "print()"
   ]
  },
  {
   "cell_type": "code",
   "execution_count": null,
   "metadata": {},
   "outputs": [],
   "source": [
    "#115"
   ]
  },
  {
   "cell_type": "code",
   "execution_count": null,
   "metadata": {},
   "outputs": [],
   "source": [
    "#116"
   ]
  },
  {
   "cell_type": "code",
   "execution_count": null,
   "metadata": {},
   "outputs": [],
   "source": [
    "#117"
   ]
  },
  {
   "cell_type": "code",
   "execution_count": null,
   "metadata": {},
   "outputs": [],
   "source": [
    "#118"
   ]
  },
  {
   "cell_type": "code",
   "execution_count": null,
   "metadata": {},
   "outputs": [],
   "source": [
    "#119"
   ]
  },
  {
   "cell_type": "code",
   "execution_count": null,
   "metadata": {},
   "outputs": [],
   "source": [
    "#120"
   ]
  }
 ],
 "metadata": {
  "kernelspec": {
   "display_name": "Python 3",
   "language": "python",
   "name": "python3"
  },
  "language_info": {
   "codemirror_mode": {
    "name": "ipython",
    "version": 3
   },
   "file_extension": ".py",
   "mimetype": "text/x-python",
   "name": "python",
   "nbconvert_exporter": "python",
   "pygments_lexer": "ipython3",
   "version": "3.6.5"
  }
 },
 "nbformat": 4,
 "nbformat_minor": 2
}
